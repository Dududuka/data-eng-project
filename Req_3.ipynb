{
 "cells": [
  {
   "cell_type": "code",
   "execution_count": 1,
   "id": "7b2520f3",
   "metadata": {},
   "outputs": [],
   "source": [
    "import pandas as pd\n",
    "import matplotlib as mpl\n",
    "import matplotlib.pyplot as plt\n",
    "import mysql.connector\n",
    "import Console_App.data_loader as dl"
   ]
  },
  {
   "cell_type": "code",
   "execution_count": 2,
   "id": "8fb8c622",
   "metadata": {},
   "outputs": [],
   "source": [
    "with open(r\"C:\\Users\\izumr\\Desktop\\Work\\data-eng-project\\Console_App\\hidden.txt\", 'r') as f:\n",
    "    hidden_ls = f.readlines()\n",
    "    usr = hidden_ls[0][:-1]\n",
    "    pwd = hidden_ls[1]\n",
    "    f.close()"
   ]
  },
  {
   "cell_type": "code",
   "execution_count": 3,
   "id": "027cf27b",
   "metadata": {},
   "outputs": [],
   "source": [
    "connection = mysql.connector.connect(host='localhost',\n",
    "                                        database='creditcard_capstone',\n",
    "                                        user=usr,\n",
    "                                        password=pwd)\n",
    "df_transactions = dl.load_table(connection, 'cdw_sapp_credit_card')"
   ]
  },
  {
   "cell_type": "code",
   "execution_count": 4,
   "id": "ccca91ba",
   "metadata": {},
   "outputs": [
    {
     "data": {
      "text/html": [
       "<div>\n",
       "<style scoped>\n",
       "    .dataframe tbody tr th:only-of-type {\n",
       "        vertical-align: middle;\n",
       "    }\n",
       "\n",
       "    .dataframe tbody tr th {\n",
       "        vertical-align: top;\n",
       "    }\n",
       "\n",
       "    .dataframe thead th {\n",
       "        text-align: right;\n",
       "    }\n",
       "</style>\n",
       "<table border=\"1\" class=\"dataframe\">\n",
       "  <thead>\n",
       "    <tr style=\"text-align: right;\">\n",
       "      <th></th>\n",
       "      <th>BRANCH_CODE</th>\n",
       "      <th>CREDIT_CARD_NO</th>\n",
       "      <th>CUST_SSN</th>\n",
       "      <th>TRANSACTION_ID</th>\n",
       "      <th>TRANSACTION_TYPE</th>\n",
       "      <th>TRANSACTION_VALUE</th>\n",
       "      <th>TIMEID</th>\n",
       "    </tr>\n",
       "  </thead>\n",
       "  <tbody>\n",
       "    <tr>\n",
       "      <th>0</th>\n",
       "      <td>114</td>\n",
       "      <td>4210653349028689</td>\n",
       "      <td>123459988</td>\n",
       "      <td>1</td>\n",
       "      <td>Education</td>\n",
       "      <td>78.90</td>\n",
       "      <td>20180214</td>\n",
       "    </tr>\n",
       "    <tr>\n",
       "      <th>1</th>\n",
       "      <td>35</td>\n",
       "      <td>4210653349028689</td>\n",
       "      <td>123459988</td>\n",
       "      <td>2</td>\n",
       "      <td>Entertainment</td>\n",
       "      <td>14.24</td>\n",
       "      <td>20180320</td>\n",
       "    </tr>\n",
       "    <tr>\n",
       "      <th>2</th>\n",
       "      <td>160</td>\n",
       "      <td>4210653349028689</td>\n",
       "      <td>123459988</td>\n",
       "      <td>3</td>\n",
       "      <td>Grocery</td>\n",
       "      <td>56.70</td>\n",
       "      <td>20180708</td>\n",
       "    </tr>\n",
       "    <tr>\n",
       "      <th>3</th>\n",
       "      <td>114</td>\n",
       "      <td>4210653349028689</td>\n",
       "      <td>123459988</td>\n",
       "      <td>4</td>\n",
       "      <td>Entertainment</td>\n",
       "      <td>59.73</td>\n",
       "      <td>20180419</td>\n",
       "    </tr>\n",
       "    <tr>\n",
       "      <th>4</th>\n",
       "      <td>93</td>\n",
       "      <td>4210653349028689</td>\n",
       "      <td>123459988</td>\n",
       "      <td>5</td>\n",
       "      <td>Gas</td>\n",
       "      <td>3.59</td>\n",
       "      <td>20181010</td>\n",
       "    </tr>\n",
       "  </tbody>\n",
       "</table>\n",
       "</div>"
      ],
      "text/plain": [
       "   BRANCH_CODE    CREDIT_CARD_NO   CUST_SSN  TRANSACTION_ID TRANSACTION_TYPE  \\\n",
       "0          114  4210653349028689  123459988               1        Education   \n",
       "1           35  4210653349028689  123459988               2    Entertainment   \n",
       "2          160  4210653349028689  123459988               3          Grocery   \n",
       "3          114  4210653349028689  123459988               4    Entertainment   \n",
       "4           93  4210653349028689  123459988               5              Gas   \n",
       "\n",
       "   TRANSACTION_VALUE    TIMEID  \n",
       "0              78.90  20180214  \n",
       "1              14.24  20180320  \n",
       "2              56.70  20180708  \n",
       "3              59.73  20180419  \n",
       "4               3.59  20181010  "
      ]
     },
     "execution_count": 4,
     "metadata": {},
     "output_type": "execute_result"
    }
   ],
   "source": [
    "df_transactions.head()"
   ]
  },
  {
   "cell_type": "code",
   "execution_count": 5,
   "id": "46565ad4",
   "metadata": {},
   "outputs": [],
   "source": [
    "df_by_type = df_transactions.groupby(['TRANSACTION_TYPE'])['TRANSACTION_TYPE'].count()\n",
    "df_by_type_sorted = df_by_type.sort_values()"
   ]
  },
  {
   "cell_type": "code",
   "execution_count": 6,
   "id": "599ff120",
   "metadata": {},
   "outputs": [
    {
     "data": {
      "image/png": "[encoded data removed]",
      "text/plain": [
       "<Figure size 864x576 with 1 Axes>"
      ]
     },
     "metadata": {
      "needs_background": "light"
     },
     "output_type": "display_data"
    }
   ],
   "source": [
    "df_by_type_sorted.plot(kind='barh', figsize=[12,8])\n",
    "plt.title('Total Number Of Transactions By Type')\n",
    "plt.xlim([6000, 7000])\n",
    "plt.xlabel('Number Of Transactions')\n",
    "plt.ylabel('Transaction Type')\n",
    "plt.show()"
   ]
  },
  {
   "cell_type": "code",
   "execution_count": 7,
   "id": "e3def6be",
   "metadata": {},
   "outputs": [
    {
     "data": {
      "text/html": [
       "<div>\n",
       "<style scoped>\n",
       "    .dataframe tbody tr th:only-of-type {\n",
       "        vertical-align: middle;\n",
       "    }\n",
       "\n",
       "    .dataframe tbody tr th {\n",
       "        vertical-align: top;\n",
       "    }\n",
       "\n",
       "    .dataframe thead th {\n",
       "        text-align: right;\n",
       "    }\n",
       "</style>\n",
       "<table border=\"1\" class=\"dataframe\">\n",
       "  <thead>\n",
       "    <tr style=\"text-align: right;\">\n",
       "      <th></th>\n",
       "      <th>CREDIT_CARD_NO</th>\n",
       "      <th>CUST_CITY</th>\n",
       "      <th>CUST_COUNTRY</th>\n",
       "      <th>CUST_EMAIL</th>\n",
       "      <th>CUST_PHONE</th>\n",
       "      <th>CUST_STATE</th>\n",
       "      <th>CUST_ZIP</th>\n",
       "      <th>FIRST_NAME</th>\n",
       "      <th>LAST_NAME</th>\n",
       "      <th>LAST_UPDATED</th>\n",
       "      <th>MIDDLE_NAME</th>\n",
       "      <th>SSN</th>\n",
       "      <th>FULL_STREET_ADDRESS</th>\n",
       "    </tr>\n",
       "  </thead>\n",
       "  <tbody>\n",
       "    <tr>\n",
       "      <th>0</th>\n",
       "      <td>4210653344660822</td>\n",
       "      <td>Chambersburg</td>\n",
       "      <td>United States</td>\n",
       "      <td>MCamp@example.com</td>\n",
       "      <td>(777)124-1782</td>\n",
       "      <td>PA</td>\n",
       "      <td>17201</td>\n",
       "      <td>MARCEL</td>\n",
       "      <td>CAMP</td>\n",
       "      <td>2018-04-21T12:49:02.000-04:00</td>\n",
       "      <td>andreas</td>\n",
       "      <td>123451007</td>\n",
       "      <td>College Avenue,762</td>\n",
       "    </tr>\n",
       "    <tr>\n",
       "      <th>1</th>\n",
       "      <td>4210653375981317</td>\n",
       "      <td>SanLorenzo</td>\n",
       "      <td>United States</td>\n",
       "      <td>SFields@example.com</td>\n",
       "      <td>(777)123-4687</td>\n",
       "      <td>CA</td>\n",
       "      <td>94580</td>\n",
       "      <td>STACEY</td>\n",
       "      <td>FIELDS</td>\n",
       "      <td>2018-04-21T12:49:02.000-04:00</td>\n",
       "      <td>garfield</td>\n",
       "      <td>123451012</td>\n",
       "      <td>Sycamore Drive,419</td>\n",
       "    </tr>\n",
       "    <tr>\n",
       "      <th>2</th>\n",
       "      <td>4210653316827505</td>\n",
       "      <td>Carrollton</td>\n",
       "      <td>United States</td>\n",
       "      <td>OFinn@example.com</td>\n",
       "      <td>(777)124-3309</td>\n",
       "      <td>GA</td>\n",
       "      <td>30117</td>\n",
       "      <td>OREN</td>\n",
       "      <td>FINN</td>\n",
       "      <td>2018-04-21T12:49:02.000-04:00</td>\n",
       "      <td>bernadette</td>\n",
       "      <td>123451037</td>\n",
       "      <td>Winding Way,389</td>\n",
       "    </tr>\n",
       "    <tr>\n",
       "      <th>3</th>\n",
       "      <td>4210653352152800</td>\n",
       "      <td>Reidsville</td>\n",
       "      <td>United States</td>\n",
       "      <td>ILane@example.com</td>\n",
       "      <td>(777)123-7396</td>\n",
       "      <td>NC</td>\n",
       "      <td>27320</td>\n",
       "      <td>IKE</td>\n",
       "      <td>LANE</td>\n",
       "      <td>2018-04-21T12:49:02.000-04:00</td>\n",
       "      <td>logan</td>\n",
       "      <td>123451041</td>\n",
       "      <td>Henry Street,489</td>\n",
       "    </tr>\n",
       "    <tr>\n",
       "      <th>4</th>\n",
       "      <td>4210653312588692</td>\n",
       "      <td>Rowlett</td>\n",
       "      <td>United States</td>\n",
       "      <td>TRichards@example.com</td>\n",
       "      <td>(777)123-6077</td>\n",
       "      <td>TX</td>\n",
       "      <td>75088</td>\n",
       "      <td>TRACEY</td>\n",
       "      <td>RICHARDS</td>\n",
       "      <td>2018-04-21T12:49:02.000-04:00</td>\n",
       "      <td>austin</td>\n",
       "      <td>123451068</td>\n",
       "      <td>Durham Road,147</td>\n",
       "    </tr>\n",
       "  </tbody>\n",
       "</table>\n",
       "</div>"
      ],
      "text/plain": [
       "     CREDIT_CARD_NO     CUST_CITY   CUST_COUNTRY             CUST_EMAIL  \\\n",
       "0  4210653344660822  Chambersburg  United States      MCamp@example.com   \n",
       "1  4210653375981317    SanLorenzo  United States    SFields@example.com   \n",
       "2  4210653316827505    Carrollton  United States      OFinn@example.com   \n",
       "3  4210653352152800    Reidsville  United States      ILane@example.com   \n",
       "4  4210653312588692       Rowlett  United States  TRichards@example.com   \n",
       "\n",
       "      CUST_PHONE CUST_STATE CUST_ZIP FIRST_NAME LAST_NAME  \\\n",
       "0  (777)124-1782         PA    17201     MARCEL      CAMP   \n",
       "1  (777)123-4687         CA    94580     STACEY    FIELDS   \n",
       "2  (777)124-3309         GA    30117       OREN      FINN   \n",
       "3  (777)123-7396         NC    27320        IKE      LANE   \n",
       "4  (777)123-6077         TX    75088     TRACEY  RICHARDS   \n",
       "\n",
       "                    LAST_UPDATED MIDDLE_NAME        SSN FULL_STREET_ADDRESS  \n",
       "0  2018-04-21T12:49:02.000-04:00     andreas  123451007  College Avenue,762  \n",
       "1  2018-04-21T12:49:02.000-04:00    garfield  123451012  Sycamore Drive,419  \n",
       "2  2018-04-21T12:49:02.000-04:00  bernadette  123451037     Winding Way,389  \n",
       "3  2018-04-21T12:49:02.000-04:00       logan  123451041    Henry Street,489  \n",
       "4  2018-04-21T12:49:02.000-04:00      austin  123451068     Durham Road,147  "
      ]
     },
     "execution_count": 7,
     "metadata": {},
     "output_type": "execute_result"
    }
   ],
   "source": [
    "connection = mysql.connector.connect(host='localhost',\n",
    "                                        database='creditcard_capstone',\n",
    "                                        user=usr,\n",
    "                                        password=pwd)\n",
    "df_customers = dl.load_table(connection, 'cdw_sapp_customer')\n",
    "df_customers.head()"
   ]
  },
  {
   "cell_type": "code",
   "execution_count": 8,
   "id": "e9fe172c",
   "metadata": {},
   "outputs": [
    {
     "data": {
      "text/plain": [
       "Text(0, 0.5, 'State')"
      ]
     },
     "execution_count": 8,
     "metadata": {},
     "output_type": "execute_result"
    },
    {
     "data": {
      "image/png": "[encoded data removed]",
      "text/plain": [
       "<Figure size 1008x720 with 1 Axes>"
      ]
     },
     "metadata": {
      "needs_background": "light"
     },
     "output_type": "display_data"
    }
   ],
   "source": [
    "df_by_state = df_customers.groupby(['CUST_STATE'])['SSN'].count()\n",
    "df_by_state.sort_values().plot(kind='barh', figsize=[14,10], color='purple')\n",
    "plt.title('Number Of Customers By State')\n",
    "plt.xlabel('Number of Customers')\n",
    "plt.ylabel('State')"
   ]
  },
  {
   "cell_type": "code",
   "execution_count": 9,
   "id": "bc16c071",
   "metadata": {},
   "outputs": [
    {
     "data": {
      "text/plain": [
       "Text(0, 0.5, 'Customer SSN')"
      ]
     },
     "execution_count": 9,
     "metadata": {},
     "output_type": "execute_result"
    },
    {
     "data": {
      "image/png": "[encoded data removed]",
      "text/plain": [
       "<Figure size 1008x720 with 1 Axes>"
      ]
     },
     "metadata": {
      "needs_background": "light"
     },
     "output_type": "display_data"
    }
   ],
   "source": [
    "df_transaction_sum = df_transactions.groupby(['CUST_SSN'])['TRANSACTION_VALUE'].sum()\n",
    "top20customers = df_transaction_sum.sort_values().tail(20)\n",
    "top20customers.plot(kind='barh',figsize=[14,10], color = 'g')\n",
    "plt.xlim([4900, 5700])\n",
    "plt.title('Top 20 Customers With Highest Total Transaction Value')\n",
    "plt.xlabel('Total Transaction Value')\n",
    "plt.ylabel('Customer SSN')"
   ]
  },
  {
   "cell_type": "code",
   "execution_count": 10,
   "id": "5a8feae3",
   "metadata": {},
   "outputs": [
    {
     "data": {
      "text/html": [
       "<div>\n",
       "<style scoped>\n",
       "    .dataframe tbody tr th:only-of-type {\n",
       "        vertical-align: middle;\n",
       "    }\n",
       "\n",
       "    .dataframe tbody tr th {\n",
       "        vertical-align: top;\n",
       "    }\n",
       "\n",
       "    .dataframe thead th {\n",
       "        text-align: right;\n",
       "    }\n",
       "</style>\n",
       "<table border=\"1\" class=\"dataframe\">\n",
       "  <thead>\n",
       "    <tr style=\"text-align: right;\">\n",
       "      <th></th>\n",
       "      <th>BRANCH_CODE</th>\n",
       "      <th>CREDIT_CARD_NO</th>\n",
       "      <th>CUST_SSN</th>\n",
       "      <th>TRANSACTION_ID</th>\n",
       "      <th>TRANSACTION_TYPE</th>\n",
       "      <th>TRANSACTION_VALUE</th>\n",
       "      <th>TIMEID</th>\n",
       "      <th>YEAR_MONTH</th>\n",
       "    </tr>\n",
       "  </thead>\n",
       "  <tbody>\n",
       "    <tr>\n",
       "      <th>0</th>\n",
       "      <td>114</td>\n",
       "      <td>4210653349028689</td>\n",
       "      <td>123459988</td>\n",
       "      <td>1</td>\n",
       "      <td>Education</td>\n",
       "      <td>78.90</td>\n",
       "      <td>20180214</td>\n",
       "      <td>201802</td>\n",
       "    </tr>\n",
       "    <tr>\n",
       "      <th>1</th>\n",
       "      <td>35</td>\n",
       "      <td>4210653349028689</td>\n",
       "      <td>123459988</td>\n",
       "      <td>2</td>\n",
       "      <td>Entertainment</td>\n",
       "      <td>14.24</td>\n",
       "      <td>20180320</td>\n",
       "      <td>201803</td>\n",
       "    </tr>\n",
       "    <tr>\n",
       "      <th>2</th>\n",
       "      <td>160</td>\n",
       "      <td>4210653349028689</td>\n",
       "      <td>123459988</td>\n",
       "      <td>3</td>\n",
       "      <td>Grocery</td>\n",
       "      <td>56.70</td>\n",
       "      <td>20180708</td>\n",
       "      <td>201807</td>\n",
       "    </tr>\n",
       "    <tr>\n",
       "      <th>3</th>\n",
       "      <td>114</td>\n",
       "      <td>4210653349028689</td>\n",
       "      <td>123459988</td>\n",
       "      <td>4</td>\n",
       "      <td>Entertainment</td>\n",
       "      <td>59.73</td>\n",
       "      <td>20180419</td>\n",
       "      <td>201804</td>\n",
       "    </tr>\n",
       "    <tr>\n",
       "      <th>4</th>\n",
       "      <td>93</td>\n",
       "      <td>4210653349028689</td>\n",
       "      <td>123459988</td>\n",
       "      <td>5</td>\n",
       "      <td>Gas</td>\n",
       "      <td>3.59</td>\n",
       "      <td>20181010</td>\n",
       "      <td>201810</td>\n",
       "    </tr>\n",
       "  </tbody>\n",
       "</table>\n",
       "</div>"
      ],
      "text/plain": [
       "   BRANCH_CODE    CREDIT_CARD_NO   CUST_SSN  TRANSACTION_ID TRANSACTION_TYPE  \\\n",
       "0          114  4210653349028689  123459988               1        Education   \n",
       "1           35  4210653349028689  123459988               2    Entertainment   \n",
       "2          160  4210653349028689  123459988               3          Grocery   \n",
       "3          114  4210653349028689  123459988               4    Entertainment   \n",
       "4           93  4210653349028689  123459988               5              Gas   \n",
       "\n",
       "   TRANSACTION_VALUE    TIMEID YEAR_MONTH  \n",
       "0              78.90  20180214     201802  \n",
       "1              14.24  20180320     201803  \n",
       "2              56.70  20180708     201807  \n",
       "3              59.73  20180419     201804  \n",
       "4               3.59  20181010     201810  "
      ]
     },
     "execution_count": 10,
     "metadata": {},
     "output_type": "execute_result"
    }
   ],
   "source": [
    "df_transactions['YEAR_MONTH']= df_transactions['TIMEID'].map(lambda x:x[:6])\n",
    "df_transactions.head()"
   ]
  },
  {
   "cell_type": "code",
   "execution_count": 27,
   "id": "4c86c61c",
   "metadata": {},
   "outputs": [
    {
     "data": {
      "text/html": [
       "<div>\n",
       "<style scoped>\n",
       "    .dataframe tbody tr th:only-of-type {\n",
       "        vertical-align: middle;\n",
       "    }\n",
       "\n",
       "    .dataframe tbody tr th {\n",
       "        vertical-align: top;\n",
       "    }\n",
       "\n",
       "    .dataframe thead th {\n",
       "        text-align: right;\n",
       "    }\n",
       "</style>\n",
       "<table border=\"1\" class=\"dataframe\">\n",
       "  <thead>\n",
       "    <tr style=\"text-align: right;\">\n",
       "      <th></th>\n",
       "      <th>TRANSACTION_ID</th>\n",
       "    </tr>\n",
       "    <tr>\n",
       "      <th>YEAR_MONTH</th>\n",
       "      <th></th>\n",
       "    </tr>\n",
       "  </thead>\n",
       "  <tbody>\n",
       "    <tr>\n",
       "      <th>201801</th>\n",
       "      <td>3814</td>\n",
       "    </tr>\n",
       "    <tr>\n",
       "      <th>201802</th>\n",
       "      <td>3959</td>\n",
       "    </tr>\n",
       "    <tr>\n",
       "      <th>201803</th>\n",
       "      <td>3851</td>\n",
       "    </tr>\n",
       "    <tr>\n",
       "      <th>201804</th>\n",
       "      <td>3840</td>\n",
       "    </tr>\n",
       "    <tr>\n",
       "      <th>201805</th>\n",
       "      <td>3946</td>\n",
       "    </tr>\n",
       "  </tbody>\n",
       "</table>\n",
       "</div>"
      ],
      "text/plain": [
       "            TRANSACTION_ID\n",
       "YEAR_MONTH                \n",
       "201801                3814\n",
       "201802                3959\n",
       "201803                3851\n",
       "201804                3840\n",
       "201805                3946"
      ]
     },
     "execution_count": 27,
     "metadata": {},
     "output_type": "execute_result"
    }
   ],
   "source": [
    "df_all_months = df_transactions.groupby(['YEAR_MONTH'])['TRANSACTION_ID'].count().to_frame()\n",
    "df_all_months.head()"
   ]
  },
  {
   "cell_type": "code",
   "execution_count": 28,
   "id": "5409996f",
   "metadata": {},
   "outputs": [
    {
     "data": {
      "text/html": [
       "<div>\n",
       "<style scoped>\n",
       "    .dataframe tbody tr th:only-of-type {\n",
       "        vertical-align: middle;\n",
       "    }\n",
       "\n",
       "    .dataframe tbody tr th {\n",
       "        vertical-align: top;\n",
       "    }\n",
       "\n",
       "    .dataframe thead th {\n",
       "        text-align: right;\n",
       "    }\n",
       "</style>\n",
       "<table border=\"1\" class=\"dataframe\">\n",
       "  <thead>\n",
       "    <tr style=\"text-align: right;\">\n",
       "      <th></th>\n",
       "      <th>TRANSACTION_ID</th>\n",
       "    </tr>\n",
       "    <tr>\n",
       "      <th>YEAR_MONTH</th>\n",
       "      <th></th>\n",
       "    </tr>\n",
       "  </thead>\n",
       "  <tbody>\n",
       "    <tr>\n",
       "      <th>201802</th>\n",
       "      <td>3959</td>\n",
       "    </tr>\n",
       "    <tr>\n",
       "      <th>201805</th>\n",
       "      <td>3946</td>\n",
       "    </tr>\n",
       "    <tr>\n",
       "      <th>201810</th>\n",
       "      <td>3946</td>\n",
       "    </tr>\n",
       "  </tbody>\n",
       "</table>\n",
       "</div>"
      ],
      "text/plain": [
       "            TRANSACTION_ID\n",
       "YEAR_MONTH                \n",
       "201802                3959\n",
       "201805                3946\n",
       "201810                3946"
      ]
     },
     "execution_count": 28,
     "metadata": {},
     "output_type": "execute_result"
    }
   ],
   "source": [
    "df_all_months.sort_values(by='TRANSACTION_ID', ascending=False, inplace=True)\n",
    "df_top3 = df_all_months.head(3)\n",
    "df_top3"
   ]
  },
  {
   "cell_type": "code",
   "execution_count": 32,
   "id": "86c37ffd",
   "metadata": {},
   "outputs": [
    {
     "data": {
      "text/plain": [
       "Text(0, 0.5, 'Year and Month')"
      ]
     },
     "execution_count": 32,
     "metadata": {},
     "output_type": "execute_result"
    },
    {
     "data": {
      "image/png": "[encoded data removed]",
      "text/plain": [
       "<Figure size 864x576 with 1 Axes>"
      ]
     },
     "metadata": {
      "needs_background": "light"
     },
     "output_type": "display_data"
    }
   ],
   "source": [
    "df_top3.plot(kind='barh', figsize=[12,8], color='orange')\n",
    "plt.xlim([3800,4000])\n",
    "plt.title('Top Three Month With Largest Number Of Transactions')\n",
    "plt.xlabel('Number Of Transactions')\n",
    "plt.ylabel('Year and Month')"
   ]
  },
  {
   "cell_type": "code",
   "execution_count": 69,
   "id": "b3cead25",
   "metadata": {},
   "outputs": [],
   "source": [
    "df_transaction_health = df_transactions.loc[df_transactions['TRANSACTION_TYPE']=='Healthcare']\n",
    "df_health = df_transaction_health.groupby(['BRANCH_CODE'])['TRANSACTION_VALUE'].sum()\n",
    "df_health_top20 = df_health.head(20)"
   ]
  },
  {
   "cell_type": "code",
   "execution_count": 73,
   "id": "166a229c",
   "metadata": {},
   "outputs": [
    {
     "data": {
      "text/plain": [
       "Text(0, 0.5, 'Branch Code')"
      ]
     },
     "execution_count": 73,
     "metadata": {},
     "output_type": "execute_result"
    },
    {
     "data": {
      "image/png": "[encoded data removed]",
      "text/plain": [
       "<Figure size 864x576 with 1 Axes>"
      ]
     },
     "metadata": {
      "needs_background": "light"
     },
     "output_type": "display_data"
    }
   ],
   "source": [
    "df_health_top20.sort_values().plot(kind='barh', figsize=[12,8])\n",
    "plt.title('Top 20 Branches With Highest Value Of Healthcare Transactions')\n",
    "plt.xlabel('Total Value of Transactions')\n",
    "plt.ylabel('Branch Code')"
   ]
  }
 ],
 "metadata": {
  "kernelspec": {
   "display_name": "Python 3 (ipykernel)",
   "language": "python",
   "name": "python3"
  },
  "language_info": {
   "codemirror_mode": {
    "name": "ipython",
    "version": 3
   },
   "file_extension": ".py",
   "mimetype": "text/x-python",
   "name": "python",
   "nbconvert_exporter": "python",
   "pygments_lexer": "ipython3",
   "version": "3.9.12"
  }
 },
 "nbformat": 4,
 "nbformat_minor": 5
}
