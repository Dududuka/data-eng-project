{
 "cells": [
  {
   "cell_type": "code",
   "execution_count": 9,
   "id": "2c76a16e",
   "metadata": {},
   "outputs": [],
   "source": [
    "import pandas as pd\n",
    "import matplotlib as mpl\n",
    "import matplotlib.pyplot as plt\n",
    "import mysql.connector\n",
    "import data_loader as dl\n",
    "import numpy as np"
   ]
  },
  {
   "cell_type": "code",
   "execution_count": 3,
   "id": "af7c1535",
   "metadata": {},
   "outputs": [
    {
     "name": "stdout",
     "output_type": "stream",
     "text": [
      "Database connection is closed\n"
     ]
    }
   ],
   "source": [
    "connection = mysql.connector.connect(host='localhost',\n",
    "                                        database='creditcard_capstone',\n",
    "                                        user='root',\n",
    "                                        password='a')\n",
    "df_loans = dl.load_table(connection, 'cdw_sapp_loan_application')"
   ]
  },
  {
   "cell_type": "code",
   "execution_count": 4,
   "id": "b04c581d",
   "metadata": {},
   "outputs": [
    {
     "data": {
      "text/html": [
       "<div>\n",
       "<style scoped>\n",
       "    .dataframe tbody tr th:only-of-type {\n",
       "        vertical-align: middle;\n",
       "    }\n",
       "\n",
       "    .dataframe tbody tr th {\n",
       "        vertical-align: top;\n",
       "    }\n",
       "\n",
       "    .dataframe thead th {\n",
       "        text-align: right;\n",
       "    }\n",
       "</style>\n",
       "<table border=\"1\" class=\"dataframe\">\n",
       "  <thead>\n",
       "    <tr style=\"text-align: right;\">\n",
       "      <th></th>\n",
       "      <th>Application_ID</th>\n",
       "      <th>Application_Status</th>\n",
       "      <th>Credit_History</th>\n",
       "      <th>Dependents</th>\n",
       "      <th>Education</th>\n",
       "      <th>Gender</th>\n",
       "      <th>Income</th>\n",
       "      <th>Married</th>\n",
       "      <th>Property_Area</th>\n",
       "      <th>Self_Employed</th>\n",
       "    </tr>\n",
       "  </thead>\n",
       "  <tbody>\n",
       "    <tr>\n",
       "      <th>0</th>\n",
       "      <td>LP002455</td>\n",
       "      <td>Y</td>\n",
       "      <td>1</td>\n",
       "      <td>2</td>\n",
       "      <td>Graduate</td>\n",
       "      <td>Male</td>\n",
       "      <td>low</td>\n",
       "      <td>Yes</td>\n",
       "      <td>Semiurban</td>\n",
       "      <td>No</td>\n",
       "    </tr>\n",
       "    <tr>\n",
       "      <th>1</th>\n",
       "      <td>LP001955</td>\n",
       "      <td>N</td>\n",
       "      <td>1</td>\n",
       "      <td>0</td>\n",
       "      <td>Graduate</td>\n",
       "      <td>Female</td>\n",
       "      <td>medium</td>\n",
       "      <td>No</td>\n",
       "      <td>Rural</td>\n",
       "      <td>No</td>\n",
       "    </tr>\n",
       "    <tr>\n",
       "      <th>2</th>\n",
       "      <td>LP001528</td>\n",
       "      <td>N</td>\n",
       "      <td>0</td>\n",
       "      <td>0</td>\n",
       "      <td>Graduate</td>\n",
       "      <td>Male</td>\n",
       "      <td>medium</td>\n",
       "      <td>No</td>\n",
       "      <td>Rural</td>\n",
       "      <td>No</td>\n",
       "    </tr>\n",
       "    <tr>\n",
       "      <th>3</th>\n",
       "      <td>LP001529</td>\n",
       "      <td>Y</td>\n",
       "      <td>1</td>\n",
       "      <td>0</td>\n",
       "      <td>Graduate</td>\n",
       "      <td>Male</td>\n",
       "      <td>low</td>\n",
       "      <td>Yes</td>\n",
       "      <td>Rural</td>\n",
       "      <td>Yes</td>\n",
       "    </tr>\n",
       "    <tr>\n",
       "      <th>4</th>\n",
       "      <td>LP001963</td>\n",
       "      <td>N</td>\n",
       "      <td>1</td>\n",
       "      <td>1</td>\n",
       "      <td>Graduate</td>\n",
       "      <td>Male</td>\n",
       "      <td>low</td>\n",
       "      <td>Yes</td>\n",
       "      <td>Urban</td>\n",
       "      <td>No</td>\n",
       "    </tr>\n",
       "  </tbody>\n",
       "</table>\n",
       "</div>"
      ],
      "text/plain": [
       "  Application_ID Application_Status  Credit_History Dependents Education  \\\n",
       "0       LP002455                  Y               1          2  Graduate   \n",
       "1       LP001955                  N               1          0  Graduate   \n",
       "2       LP001528                  N               0          0  Graduate   \n",
       "3       LP001529                  Y               1          0  Graduate   \n",
       "4       LP001963                  N               1          1  Graduate   \n",
       "\n",
       "   Gender  Income Married Property_Area Self_Employed  \n",
       "0    Male     low     Yes     Semiurban            No  \n",
       "1  Female  medium      No         Rural            No  \n",
       "2    Male  medium      No         Rural            No  \n",
       "3    Male     low     Yes         Rural           Yes  \n",
       "4    Male     low     Yes         Urban            No  "
      ]
     },
     "execution_count": 4,
     "metadata": {},
     "output_type": "execute_result"
    }
   ],
   "source": [
    "df_loans.head()"
   ]
  },
  {
   "cell_type": "code",
   "execution_count": 8,
   "id": "b9b3a524",
   "metadata": {},
   "outputs": [
    {
     "data": {
      "text/html": [
       "<div>\n",
       "<style scoped>\n",
       "    .dataframe tbody tr th:only-of-type {\n",
       "        vertical-align: middle;\n",
       "    }\n",
       "\n",
       "    .dataframe tbody tr th {\n",
       "        vertical-align: top;\n",
       "    }\n",
       "\n",
       "    .dataframe thead th {\n",
       "        text-align: right;\n",
       "    }\n",
       "</style>\n",
       "<table border=\"1\" class=\"dataframe\">\n",
       "  <thead>\n",
       "    <tr style=\"text-align: right;\">\n",
       "      <th></th>\n",
       "      <th>Application_ID</th>\n",
       "      <th>Application_Status</th>\n",
       "      <th>Credit_History</th>\n",
       "      <th>Dependents</th>\n",
       "      <th>Education</th>\n",
       "      <th>Gender</th>\n",
       "      <th>Income</th>\n",
       "      <th>Married</th>\n",
       "      <th>Property_Area</th>\n",
       "      <th>Self_Employed</th>\n",
       "    </tr>\n",
       "  </thead>\n",
       "  <tbody>\n",
       "    <tr>\n",
       "      <th>0</th>\n",
       "      <td>LP002455</td>\n",
       "      <td>Y</td>\n",
       "      <td>1</td>\n",
       "      <td>2</td>\n",
       "      <td>Graduate</td>\n",
       "      <td>Male</td>\n",
       "      <td>low</td>\n",
       "      <td>Yes</td>\n",
       "      <td>Semiurban</td>\n",
       "      <td>No</td>\n",
       "    </tr>\n",
       "    <tr>\n",
       "      <th>3</th>\n",
       "      <td>LP001529</td>\n",
       "      <td>Y</td>\n",
       "      <td>1</td>\n",
       "      <td>0</td>\n",
       "      <td>Graduate</td>\n",
       "      <td>Male</td>\n",
       "      <td>low</td>\n",
       "      <td>Yes</td>\n",
       "      <td>Rural</td>\n",
       "      <td>Yes</td>\n",
       "    </tr>\n",
       "    <tr>\n",
       "      <th>4</th>\n",
       "      <td>LP001963</td>\n",
       "      <td>N</td>\n",
       "      <td>1</td>\n",
       "      <td>1</td>\n",
       "      <td>Graduate</td>\n",
       "      <td>Male</td>\n",
       "      <td>low</td>\n",
       "      <td>Yes</td>\n",
       "      <td>Urban</td>\n",
       "      <td>No</td>\n",
       "    </tr>\n",
       "    <tr>\n",
       "      <th>5</th>\n",
       "      <td>LP001964</td>\n",
       "      <td>N</td>\n",
       "      <td>0</td>\n",
       "      <td>0</td>\n",
       "      <td>Not Graduate</td>\n",
       "      <td>Male</td>\n",
       "      <td>low</td>\n",
       "      <td>Yes</td>\n",
       "      <td>Urban</td>\n",
       "      <td>No</td>\n",
       "    </tr>\n",
       "    <tr>\n",
       "      <th>6</th>\n",
       "      <td>LP002459</td>\n",
       "      <td>Y</td>\n",
       "      <td>1</td>\n",
       "      <td>0</td>\n",
       "      <td>Graduate</td>\n",
       "      <td>Male</td>\n",
       "      <td>medium</td>\n",
       "      <td>Yes</td>\n",
       "      <td>Urban</td>\n",
       "      <td>No</td>\n",
       "    </tr>\n",
       "    <tr>\n",
       "      <th>...</th>\n",
       "      <td>...</td>\n",
       "      <td>...</td>\n",
       "      <td>...</td>\n",
       "      <td>...</td>\n",
       "      <td>...</td>\n",
       "      <td>...</td>\n",
       "      <td>...</td>\n",
       "      <td>...</td>\n",
       "      <td>...</td>\n",
       "      <td>...</td>\n",
       "    </tr>\n",
       "    <tr>\n",
       "      <th>505</th>\n",
       "      <td>LP001508</td>\n",
       "      <td>Y</td>\n",
       "      <td>1</td>\n",
       "      <td>2</td>\n",
       "      <td>Graduate</td>\n",
       "      <td>Male</td>\n",
       "      <td>high</td>\n",
       "      <td>Yes</td>\n",
       "      <td>Urban</td>\n",
       "      <td>No</td>\n",
       "    </tr>\n",
       "    <tr>\n",
       "      <th>506</th>\n",
       "      <td>LP001514</td>\n",
       "      <td>Y</td>\n",
       "      <td>1</td>\n",
       "      <td>0</td>\n",
       "      <td>Graduate</td>\n",
       "      <td>Female</td>\n",
       "      <td>low</td>\n",
       "      <td>Yes</td>\n",
       "      <td>Semiurban</td>\n",
       "      <td>No</td>\n",
       "    </tr>\n",
       "    <tr>\n",
       "      <th>507</th>\n",
       "      <td>LP001516</td>\n",
       "      <td>Y</td>\n",
       "      <td>1</td>\n",
       "      <td>2</td>\n",
       "      <td>Graduate</td>\n",
       "      <td>Female</td>\n",
       "      <td>high</td>\n",
       "      <td>Yes</td>\n",
       "      <td>Urban</td>\n",
       "      <td>No</td>\n",
       "    </tr>\n",
       "    <tr>\n",
       "      <th>508</th>\n",
       "      <td>LP001518</td>\n",
       "      <td>Y</td>\n",
       "      <td>1</td>\n",
       "      <td>1</td>\n",
       "      <td>Graduate</td>\n",
       "      <td>Male</td>\n",
       "      <td>low</td>\n",
       "      <td>Yes</td>\n",
       "      <td>Urban</td>\n",
       "      <td>No</td>\n",
       "    </tr>\n",
       "    <tr>\n",
       "      <th>510</th>\n",
       "      <td>LP001520</td>\n",
       "      <td>Y</td>\n",
       "      <td>1</td>\n",
       "      <td>0</td>\n",
       "      <td>Graduate</td>\n",
       "      <td>Male</td>\n",
       "      <td>medium</td>\n",
       "      <td>Yes</td>\n",
       "      <td>Semiurban</td>\n",
       "      <td>No</td>\n",
       "    </tr>\n",
       "  </tbody>\n",
       "</table>\n",
       "<p>331 rows × 10 columns</p>\n",
       "</div>"
      ],
      "text/plain": [
       "    Application_ID Application_Status  Credit_History Dependents  \\\n",
       "0         LP002455                  Y               1          2   \n",
       "3         LP001529                  Y               1          0   \n",
       "4         LP001963                  N               1          1   \n",
       "5         LP001964                  N               0          0   \n",
       "6         LP002459                  Y               1          0   \n",
       "..             ...                ...             ...        ...   \n",
       "505       LP001508                  Y               1          2   \n",
       "506       LP001514                  Y               1          0   \n",
       "507       LP001516                  Y               1          2   \n",
       "508       LP001518                  Y               1          1   \n",
       "510       LP001520                  Y               1          0   \n",
       "\n",
       "        Education  Gender  Income Married Property_Area Self_Employed  \n",
       "0        Graduate    Male     low     Yes     Semiurban            No  \n",
       "3        Graduate    Male     low     Yes         Rural           Yes  \n",
       "4        Graduate    Male     low     Yes         Urban            No  \n",
       "5    Not Graduate    Male     low     Yes         Urban            No  \n",
       "6        Graduate    Male  medium     Yes         Urban            No  \n",
       "..            ...     ...     ...     ...           ...           ...  \n",
       "505      Graduate    Male    high     Yes         Urban            No  \n",
       "506      Graduate  Female     low     Yes     Semiurban            No  \n",
       "507      Graduate  Female    high     Yes         Urban            No  \n",
       "508      Graduate    Male     low     Yes         Urban            No  \n",
       "510      Graduate    Male  medium     Yes     Semiurban            No  \n",
       "\n",
       "[331 rows x 10 columns]"
      ]
     },
     "execution_count": 8,
     "metadata": {},
     "output_type": "execute_result"
    }
   ],
   "source": [
    "df_married = df_loans.loc[df_loans['Married']=='Yes']\n",
    "df_married"
   ]
  },
  {
   "cell_type": "code",
   "execution_count": 51,
   "id": "4e7e7a08",
   "metadata": {},
   "outputs": [],
   "source": [
    "income_groups = ['Low Income', 'Medium Income', 'High Income']"
   ]
  },
  {
   "cell_type": "code",
   "execution_count": 33,
   "id": "224b4b7d",
   "metadata": {},
   "outputs": [
    {
     "data": {
      "text/plain": [
       "Income  Gender  Application_Status\n",
       "high    Female  N                       1\n",
       "                Y                       3\n",
       "        Male    N                       9\n",
       "                Y                      17\n",
       "low     Female  N                       3\n",
       "                Y                      10\n",
       "        Male    N                      46\n",
       "                Y                     119\n",
       "medium  Female  N                       4\n",
       "                Y                       4\n",
       "        Male    N                      32\n",
       "                Y                      83\n",
       "Name: Gender, dtype: int64"
      ]
     },
     "execution_count": 33,
     "metadata": {},
     "output_type": "execute_result"
    }
   ],
   "source": [
    "filtered_data = df_married.groupby(['Income','Gender','Application_Status'])['Gender'].count()\n",
    "filtered_data"
   ]
  },
  {
   "cell_type": "code",
   "execution_count": 37,
   "id": "070a8cbb",
   "metadata": {},
   "outputs": [],
   "source": [
    "filtered_list = filtered_data.array.tolist()"
   ]
  },
  {
   "cell_type": "code",
   "execution_count": 38,
   "id": "3da57f55",
   "metadata": {},
   "outputs": [
    {
     "data": {
      "text/plain": [
       "[4, 26, 13, 165, 8, 115]"
      ]
     },
     "execution_count": 38,
     "metadata": {},
     "output_type": "execute_result"
    }
   ],
   "source": [
    "total = [sum(filtered_list[i:i+2]) for i in range(0, len(filtered_list), 2)]\n",
    "total"
   ]
  },
  {
   "cell_type": "code",
   "execution_count": 39,
   "id": "01aacd49",
   "metadata": {},
   "outputs": [
    {
     "data": {
      "text/plain": [
       "[3, 17, 10, 119, 4, 83]"
      ]
     },
     "execution_count": 39,
     "metadata": {},
     "output_type": "execute_result"
    }
   ],
   "source": [
    "approved = [filtered_list[i] for i in range(1, len(filtered_list), 2)]\n",
    "approved"
   ]
  },
  {
   "cell_type": "code",
   "execution_count": 42,
   "id": "d8219ada",
   "metadata": {},
   "outputs": [
    {
     "data": {
      "text/plain": [
       "[75.0,\n",
       " 65.38461538461539,\n",
       " 76.92307692307693,\n",
       " 72.12121212121212,\n",
       " 50.0,\n",
       " 72.17391304347827]"
      ]
     },
     "execution_count": 42,
     "metadata": {},
     "output_type": "execute_result"
    }
   ],
   "source": [
    "approval_rate = [approved[i]/total[i]*100 for i in range(len(approved))]\n",
    "approval_rate"
   ]
  },
  {
   "cell_type": "code",
   "execution_count": 44,
   "id": "d5ccee1a",
   "metadata": {},
   "outputs": [
    {
     "data": {
      "text/plain": [
       "[75.0, 76.92307692307693, 50.0]"
      ]
     },
     "execution_count": 44,
     "metadata": {},
     "output_type": "execute_result"
    }
   ],
   "source": [
    "women = [approval_rate[i] for i in range(0, len(approval_rate), 2)]\n",
    "women"
   ]
  },
  {
   "cell_type": "code",
   "execution_count": 45,
   "id": "28bd0753",
   "metadata": {},
   "outputs": [
    {
     "data": {
      "text/plain": [
       "[65.38461538461539, 72.12121212121212, 72.17391304347827]"
      ]
     },
     "execution_count": 45,
     "metadata": {},
     "output_type": "execute_result"
    }
   ],
   "source": [
    "men = [approval_rate[i] for i in range(1, len(approval_rate), 2)]\n",
    "men"
   ]
  },
  {
   "cell_type": "code",
   "execution_count": 53,
   "id": "977fac28",
   "metadata": {},
   "outputs": [
    {
     "data": {
      "image/png": "[encoded data removed]",
      "text/plain": [
       "<Figure size 864x576 with 1 Axes>"
      ]
     },
     "metadata": {
      "needs_background": "light"
     },
     "output_type": "display_data"
    }
   ],
   "source": [
    "X_axis = np.arange(len(income_groups))\n",
    "plt.figure(figsize=[12,8])\n",
    "plt.bar(X_axis - 0.2, women, 0.4, label = 'Women')\n",
    "plt.bar(X_axis + 0.2, men, 0.4, label = 'Men')\n",
    "plt.xticks(X_axis, income_groups)\n",
    "plt.ylabel(\"Approval Rate\")\n",
    "plt.title(\"Application Approval for Married Men and Women\")\n",
    "plt.legend()\n",
    "plt.show()"
   ]
  },
  {
   "cell_type": "code",
   "execution_count": 54,
   "id": "7f0c325e",
   "metadata": {},
   "outputs": [],
   "source": [
    "property_area = ['Rural', 'Semiurban', 'Urban']"
   ]
  },
  {
   "cell_type": "code",
   "execution_count": 56,
   "id": "7354840e",
   "metadata": {},
   "outputs": [
    {
     "data": {
      "text/plain": [
       "Property_Area  Application_Status\n",
       "Rural          N                      59\n",
       "               Y                      90\n",
       "Semiurban      N                      44\n",
       "               Y                     153\n",
       "Urban          N                      61\n",
       "               Y                     104\n",
       "Name: Property_Area, dtype: int64"
      ]
     },
     "execution_count": 56,
     "metadata": {},
     "output_type": "execute_result"
    }
   ],
   "source": [
    "grouped_by_area = df_loans.groupby(['Property_Area','Application_Status'])['Property_Area'].count()\n",
    "grouped_by_area"
   ]
  },
  {
   "cell_type": "code",
   "execution_count": 57,
   "id": "8b0ec74e",
   "metadata": {},
   "outputs": [
    {
     "data": {
      "text/plain": [
       "[59, 90, 44, 153, 61, 104]"
      ]
     },
     "execution_count": 57,
     "metadata": {},
     "output_type": "execute_result"
    }
   ],
   "source": [
    "approval_status = grouped_by_area.array.tolist()\n",
    "approval_status"
   ]
  },
  {
   "cell_type": "code",
   "execution_count": 58,
   "id": "d289cd71",
   "metadata": {},
   "outputs": [
    {
     "data": {
      "text/plain": [
       "[149, 197, 165]"
      ]
     },
     "execution_count": 58,
     "metadata": {},
     "output_type": "execute_result"
    }
   ],
   "source": [
    "total_applications = [sum(approval_status[i:i+2]) for i in range(0, len(approval_status), 2)]\n",
    "total_applications"
   ]
  },
  {
   "cell_type": "code",
   "execution_count": 60,
   "id": "5d9d6f85",
   "metadata": {},
   "outputs": [
    {
     "data": {
      "text/plain": [
       "[90, 153, 104]"
      ]
     },
     "execution_count": 60,
     "metadata": {},
     "output_type": "execute_result"
    }
   ],
   "source": [
    "approved_applications = [approval_status[i] for i in range(1, len(approval_status), 2)]\n",
    "approved_applications"
   ]
  },
  {
   "cell_type": "code",
   "execution_count": 61,
   "id": "07412aac",
   "metadata": {},
   "outputs": [
    {
     "data": {
      "text/plain": [
       "[60.40268456375839, 77.66497461928934, 63.030303030303024]"
      ]
     },
     "execution_count": 61,
     "metadata": {},
     "output_type": "execute_result"
    }
   ],
   "source": [
    "applications_approval_rate = [approved_applications[i]/total_applications[i]*100 for i in range(len(approved_applications))]\n",
    "applications_approval_rate "
   ]
  },
  {
   "cell_type": "code",
   "execution_count": 63,
   "id": "59eaadc4",
   "metadata": {},
   "outputs": [
    {
     "data": {
      "image/png": "[encoded data removed]",
      "text/plain": [
       "<Figure size 864x576 with 1 Axes>"
      ]
     },
     "metadata": {
      "needs_background": "light"
     },
     "output_type": "display_data"
    }
   ],
   "source": [
    "X_axis = np.arange(len(property_area))\n",
    "plt.figure(figsize=[12,8])\n",
    "plt.bar(X_axis, applications_approval_rate, 0.4, label = 'Approval Rate')\n",
    "plt.xticks(X_axis, property_area)\n",
    "plt.ylabel(\"Approval Rate\")\n",
    "plt.title(\"Application Approval Rate By Property Area\")\n",
    "plt.legend()\n",
    "plt.show()"
   ]
  }
 ],
 "metadata": {
  "kernelspec": {
   "display_name": "Python 3 (ipykernel)",
   "language": "python",
   "name": "python3"
  },
  "language_info": {
   "codemirror_mode": {
    "name": "ipython",
    "version": 3
   },
   "file_extension": ".py",
   "mimetype": "text/x-python",
   "name": "python",
   "nbconvert_exporter": "python",
   "pygments_lexer": "ipython3",
   "version": "3.9.12"
  }
 },
 "nbformat": 4,
 "nbformat_minor": 5
}
